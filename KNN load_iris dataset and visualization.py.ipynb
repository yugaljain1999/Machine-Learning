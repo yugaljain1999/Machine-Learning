{
 "cells": [
  {
   "cell_type": "code",
   "execution_count": 5,
   "metadata": {},
   "outputs": [
    {
     "data": {
      "image/png": "[encoded data removed]",
      "text/plain": [
       "<Figure size 432x288 with 1 Axes>"
      ]
     },
     "metadata": {
      "needs_background": "light"
     },
     "output_type": "display_data"
    },
    {
     "name": "stdout",
     "output_type": "stream",
     "text": [
      "[1 2 0 0 1 2 1 0 0 2 0 2 0 2 2 0 2 0 1 1 2 1 0 2 2 2 2 2 2 2 2 1 1 2 0 0 1\n",
      " 1 1 0 0 1 1 0 2]\n",
      "indecies\n",
      "[[ 72  84  95  70  73  10]\n",
      " [  3  46  31  90  93  97]\n",
      " [ 88  47  54  12  67   0]\n",
      " [  6  67  32   2 102  24]\n",
      " [ 20   5  45  26  16  66]\n",
      " [ 27  99   5  58 104  34]\n",
      " [ 80  29  92  33  48  69]\n",
      " [ 87  77  75  54   0  64]\n",
      " [ 40  79  38  36  19  35]\n",
      " [ 31  50   3  90  46  39]\n",
      " [ 75   0  64  54  18  87]\n",
      " [ 25  78  43  14  44  11]\n",
      " [ 19  36  38  79  77  40]\n",
      " [ 99  27 104  34  81   5]\n",
      " [ 10   4  70  73  69  48]\n",
      " [ 38  19  36  40  77  79]\n",
      " [ 48   9  69   4  92  10]\n",
      " [ 67  82  51  12   6  24]\n",
      " [ 33  23  29  41  80  61]\n",
      " [ 99  27   5  45  20  71]\n",
      " [ 52  60  76  65  26  66]\n",
      " [ 33  23  29  41  80  61]\n",
      " [  2 102   6   7  67  47]\n",
      " [ 15 103  44  78  14  43]\n",
      " [ 27  99   5  58 104  34]\n",
      " [ 14  44  78  25  43  11]\n",
      " [ 52  60  76  65  26  66]\n",
      " [ 28 101  93  45  16  20]\n",
      " [ 17  68   8  97  94  42]\n",
      " [ 57  58  27  81 104  34]\n",
      " [ 43  11  57  81  34 104]\n",
      " [ 85  63  33  41  23  29]\n",
      " [ 94   8  68  39  21  90]\n",
      " [ 58  27  66  57  34 104]\n",
      " [ 24  51  82  22  64   0]\n",
      " [ 30  96  35  79  13   1]\n",
      " [ 41  85  33  61  73  38]\n",
      " [ 50  31  90   3  92  80]\n",
      " [ 72  84  73  95  70  61]\n",
      " [ 75  18  89  87   0  64]\n",
      " [ 85  63  74  13  49  40]\n",
      " [ 85  63  74  38  33  23]\n",
      " [ 20   5  45  26  16  66]\n",
      " [ 13  49   1  30  40  35]\n",
      " [ 43  81  34 104  11  25]]\n"
     ]
    },
    {
     "data": {
      "image/png": "[encoded data removed]",
      "text/plain": [
       "<Figure size 432x288 with 1 Axes>"
      ]
     },
     "metadata": {
      "needs_background": "light"
     },
     "output_type": "display_data"
    },
    {
     "name": "stdout",
     "output_type": "stream",
     "text": [
      "Evaluating K-NN classifier:\n",
      "test misclassification percentage = 0.0%\n"
     ]
    }
   ],
   "source": [
    "from sklearn.neighbors import KNeighborsClassifier\n",
    "import matplotlib.pyplot as plt\n",
    "import numpy as np\n",
    "from sklearn.cross_validation import train_test_split\n",
    "import pandas as pd\n",
    "from pandas import DataFrame\n",
    "from sklearn.datasets import load_iris\n",
    "from pandas import DataFrame\n",
    "# Here we have import class neighbors from module named sklearn\n",
    "from sklearn import neighbors\n",
    "\n",
    "def main():\n",
    "    data1=load_iris()\n",
    "    # Here we are taking only two features from built in datasets i.e iris dataset\n",
    "    x=data1.data[:,:2]\n",
    "    y=data1.target\n",
    "    x_train,x_test,y_train,y_test=train_test_split(x,y,test_size=0.3,random_state=50)\n",
    "    model=KNeighborsClassifier(n_neighbors=5)\n",
    "    model.fit(x_train,y_train)\n",
    "    query=x_test\n",
    "    # Here we predict the value of y_pred for given query of input features(2)\n",
    "    y_pred=model.predict(query)\n",
    "    # Here we are trying to plot graph with two features for three different class labels or possible values of y_train(target values)\n",
    "    # We are using asmatrix attribute of numpy for 2d array i.e. x_class0,x_class1,x_class2 of two features for particular value of class label\n",
    "    x_class0=np.asmatrix([x_train[i] for i in range(len(x_train)) if y_train[i]==0])\n",
    "    x_class1=np.asmatrix([x_train[i] for i in range(len(x_train)) if y_train[i]==1])\n",
    "    x_class2=np.asmatrix([x_train[i] for i in range(len(x_train)) if y_train[i]==2])\n",
    "    # Here REMEMBER we are converting 2D array into 1D array for ploting the values of two features below that's why we put big brackets outside x_class0[:,0] and x_class[:,1]\n",
    "    plt.scatter([x_class0[:,0]],[x_class0[:,1]],color='red')\n",
    "    plt.scatter([x_class1[:,0]],[x_class1[:,1]],color='blue')\n",
    "    plt.scatter([x_class2[:,0]],[x_class2[:,1]],color='green')\n",
    "    plt.show()\n",
    "    print(y_pred)\n",
    "    x=np.array([query[i][0] for i in range(len(query))])\n",
    "    y=np.array([query[i][1] for i in range(len(query))])\n",
    "    # Here neighbors is class imported from sklearn and NearestNeighbors is its function and neighbors_object is object of class neighbors\n",
    "    neighbors_object=neighbors.NearestNeighbors(n_neighbors=6)\n",
    "    neighbors_object.fit(x_train)\n",
    "    # Here we are finding the indecies and distances of knearest neighbors of query\n",
    "    distances,indecies=neighbors_object.kneighbors(query)\n",
    "    nearest_neighbors_values=x_train[indecies]\n",
    "    \n",
    "    print(\"indecies\")\n",
    "    print(indecies)\n",
    "    plt.scatter([x_class0[:,0]],[x_class0[:,1]],color='red')\n",
    "    plt.scatter([x_class1[:,0]],[x_class1[:,1]],color='blue')\n",
    "    plt.scatter([x_class2[:,0]],[x_class2[:,1]],color='green')\n",
    "    plt.scatter(x,y,marker='*',color='yellow')\n",
    "    plt.scatter(nearest_neighbors_values[:,0],nearest_neighbors_values[:,1],color='black',marker='s')\n",
    "    plt.show()\n",
    "    # Here we have used the function evaluate_performance for evaluation of test_predictions\n",
    "    def evaluate_performance(model, query, y_pred):\n",
    "        test_set_predictions = [model.predict(query[i].reshape((1,len(query[i]))))[0] for i in range(query.shape[0])]\n",
    "        test_misclassification_percentage = 0\n",
    "        for i in range(len(test_set_predictions)):\n",
    "            if test_set_predictions[i]!=y_pred[i]:\n",
    "                test_misclassification_percentage+=1\n",
    "        test_misclassification_percentage *= 100/len(y_pred)\n",
    "        return test_misclassification_percentage\n",
    "\n",
    "#Evaluate the performances on the validation and test sets\n",
    "    print(\"Evaluating K-NN classifier:\")\n",
    "    test_err = evaluate_performance(model, query, y_pred)\n",
    "    print('test misclassification percentage = {}%'.format(test_err))\n",
    "if __name__=='__main__':\n",
    "    main()\n",
    "    \n",
    "    \n",
    "    \n"
   ]
  },
  {
   "cell_type": "code",
   "execution_count": null,
   "metadata": {},
   "outputs": [],
   "source": []
  },
  {
   "cell_type": "code",
   "execution_count": null,
   "metadata": {},
   "outputs": [],
   "source": []
  },
  {
   "cell_type": "code",
   "execution_count": null,
   "metadata": {},
   "outputs": [],
   "source": []
  }
 ],
 "metadata": {
  "kernelspec": {
   "display_name": "Python 3",
   "language": "python",
   "name": "python3"
  },
  "language_info": {
   "codemirror_mode": {
    "name": "ipython",
    "version": 3
   },
   "file_extension": ".py",
   "mimetype": "text/x-python",
   "name": "python",
   "nbconvert_exporter": "python",
   "pygments_lexer": "ipython3",
   "version": "3.7.0"
  }
 },
 "nbformat": 4,
 "nbformat_minor": 2
}

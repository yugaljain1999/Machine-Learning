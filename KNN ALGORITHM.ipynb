{
 "cells": [
  {
   "cell_type": "code",
   "execution_count": 12,
   "metadata": {},
   "outputs": [
    {
     "name": "stdout",
     "output_type": "stream",
     "text": [
      "0\n"
     ]
    }
   ],
   "source": [
    "import numpy as np\n",
    "import math\n",
    "\n",
    "def main():\n",
    "    points={0:[(1,12),(2,5),(3,6),(3,10),(3.5,8),(2,11),(2,9),(1,7)],\n",
    "            1:[(5,3),(3,2),(1.5,9),(7,2),(6,1),(3.8,1),(5.6,4),(4,2),(2,5)]\n",
    "            }\n",
    "    k=5 \n",
    "    p=[1.5,5]\n",
    "    distance=[]\n",
    "    for group in points:\n",
    "        for features in points[group]:\n",
    "            euclid_distance=math.sqrt((p[0]-features[0])**2+(p[1]-features[1])**2)\n",
    "            distance.append((euclid_distance,group))\n",
    "    distance=sorted(distance)[:k]\n",
    "    f1=0\n",
    "    f2=0\n",
    "    for i in distance:\n",
    "        if(i[1]==0):\n",
    "            f1+=1\n",
    "        elif(i[1]==1):\n",
    "            f2+=1\n",
    "            \n",
    "    if(f1>f2):\n",
    "        print(0)\n",
    "    else:\n",
    "        print(1)\n",
    "        \n",
    "        \n",
    "        \n",
    "        \n",
    "        \n",
    "if __name__=='__main__':\n",
    "    main()\n",
    "               \n",
    "    "
   ]
  },
  {
   "cell_type": "code",
   "execution_count": null,
   "metadata": {},
   "outputs": [],
   "source": []
  }
 ],
 "metadata": {
  "kernelspec": {
   "display_name": "Python 3",
   "language": "python",
   "name": "python3"
  },
  "language_info": {
   "codemirror_mode": {
    "name": "ipython",
    "version": 3
   },
   "file_extension": ".py",
   "mimetype": "text/x-python",
   "name": "python",
   "nbconvert_exporter": "python",
   "pygments_lexer": "ipython3",
   "version": "3.7.0"
  }
 },
 "nbformat": 4,
 "nbformat_minor": 2
}

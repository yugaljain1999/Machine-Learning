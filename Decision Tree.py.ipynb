{
 "cells": [
  {
   "cell_type": "code",
   "execution_count": 19,
   "metadata": {},
   "outputs": [
    {
     "name": "stdout",
     "output_type": "stream",
     "text": [
      "(624, 5)\n",
      "   B  1  1.1  1.2  1.3\n",
      "0  R  1    1    1    2\n",
      "1  R  1    1    1    3\n",
      "2  R  1    1    1    4\n",
      "3  R  1    1    1    5\n",
      "4  R  1    1    2    1\n",
      "624\n",
      "['R' 'L' 'R' 'R' 'L' 'R' 'R' 'R' 'R' 'L' 'R' 'L' 'R' 'R' 'R' 'L' 'R' 'L'\n",
      " 'L' 'L' 'R' 'R' 'R' 'L' 'L' 'L' 'L' 'L' 'R' 'R' 'L' 'L' 'L' 'R' 'R' 'L'\n",
      " 'L' 'R' 'L' 'R' 'R' 'R' 'L' 'R' 'R' 'L' 'R' 'L' 'L' 'R' 'L' 'L' 'R' 'R'\n",
      " 'R' 'R' 'R' 'L' 'L' 'L' 'R' 'R' 'L' 'R' 'L' 'L' 'R' 'L' 'R' 'L' 'L' 'L'\n",
      " 'R' 'R' 'L' 'L' 'L' 'R' 'L' 'L' 'L' 'L' 'R' 'R' 'R' 'R' 'R' 'L' 'R' 'R'\n",
      " 'L' 'L' 'L' 'R' 'L' 'R' 'L' 'L' 'L' 'R' 'L' 'R' 'R' 'R' 'R' 'R' 'R' 'L'\n",
      " 'R' 'R' 'L' 'R' 'L' 'R' 'L' 'R' 'R' 'R' 'R' 'R' 'R' 'R' 'L' 'R' 'L' 'L'\n",
      " 'R' 'R' 'R' 'R' 'R' 'L' 'R' 'R' 'R' 'R' 'L' 'R' 'R' 'L' 'L' 'R' 'L' 'R'\n",
      " 'L' 'R' 'R' 'L' 'R' 'L' 'R' 'L' 'R' 'R' 'L' 'R' 'R' 'R' 'R' 'L' 'R' 'L'\n",
      " 'L' 'R' 'L' 'R' 'L' 'L' 'L' 'L' 'L' 'L' 'R' 'R' 'L' 'R' 'R' 'R' 'L' 'R'\n",
      " 'L' 'R' 'L' 'L' 'L' 'L' 'R' 'L' 'L' 'L' 'L' 'R' 'L' 'R' 'R' 'R' 'R' 'L'\n",
      " 'R' 'R' 'L' 'R' 'L' 'L' 'R' 'L' 'R' 'R' 'L' 'L' 'L' 'R' 'R' 'R' 'R' 'L'\n",
      " 'L' 'R' 'L' 'L' 'L' 'R' 'R' 'L' 'L' 'L' 'L' 'R' 'R' 'L' 'L' 'R' 'R' 'L'\n",
      " 'L' 'R' 'L' 'R' 'L' 'R' 'L' 'L' 'R' 'R' 'R' 'L' 'R' 'R' 'R' 'R' 'L' 'R'\n",
      " 'L' 'R' 'L' 'L' 'L' 'L' 'R' 'R' 'R' 'L' 'L' 'L' 'R' 'L' 'R' 'L' 'L' 'R'\n",
      " 'L' 'R' 'R' 'R' 'R' 'R' 'L' 'R' 'L' 'L' 'R' 'L' 'L' 'R' 'L' 'R' 'L' 'R'\n",
      " 'R' 'L' 'L' 'L' 'L' 'L' 'R' 'R' 'L' 'L' 'R' 'R' 'R' 'R' 'R' 'L' 'L' 'L'\n",
      " 'L' 'L' 'L' 'L' 'L' 'R']\n"
     ]
    }
   ],
   "source": [
    "# Here we have import some classes from modules and some functions from class like from sklearn.tree import DecisionTreeClassifier which calculates an entropy \n",
    "import matplotlib.pyplot as plt\n",
    "import numpy as np\n",
    "from sklearn.cross_validation import train_test_split\n",
    "from sklearn.tree import DecisionTreeClassifier\n",
    "import pandas\n",
    "from pandas import DataFrame\n",
    "def import_dataset():\n",
    "    balance_data=pandas.read_csv('C:/Users/PC/Desktop/balance-scale-data.csv')\n",
    "    print(balance_data.shape)\n",
    "    print(balance_data.head())\n",
    "    print(len(balance_data))                         \n",
    "    return balance_data\n",
    "def split_data_set(balance_data):\n",
    "    # Here x is varying from 0-4 and y is incrementing by 0.1 starting from 0\n",
    "    x=balance_data.values[:,1:5]\n",
    "    y=balance_data.values[:, 0]\n",
    "    x_train,x_test,y_train,y_test=train_test_split(x,y,test_size=0.5)\n",
    "    return x,y,x_train,x_test,y_train,y_test\n",
    "def training_with_entropy(x_train,x_test,y_train):\n",
    "    entropy=DecisionTreeClassifier(criterion='entropy',random_state=100,max_depth=3,min_samples_leaf=5)\n",
    "    entropy.fit(x_train,y_train)\n",
    "    return entropy\n",
    "def predict(x_test,clf_object):\n",
    "    y_pred=clf_object.predict(x_test)\n",
    "    print(y_pred)\n",
    "    return y_pred\n",
    "def main():\n",
    "    data=import_dataset()\n",
    "    x,y,x_train,x_test,y_train,y_test=split_data_set(data)\n",
    "    entropy=training_with_entropy(x_train,x_test,y_train)\n",
    "    y_predict_entropy=predict(x_test,entropy)\n",
    "if __name__=='__main__':\n",
    "    main()               \n",
    "    \n",
    "'''\n",
    "Summary:1.First we have import some classes.\n",
    "        2.Then we define the function named import_dataset to import balance_data\n",
    "        3.Then we define the function split_data_set to split x,y into x_train,y_train,x_test,y_test\n",
    "        4.Then we define the function named training_with_entropy to fit x_train and y_train into entropy and return entropy with the help of function named DecisionTreeClassifier\n",
    "        5.Then we define the function predict to predict the value of y_pred and print its values fro each test value i.e. x_test\n",
    "        6.Then finally in main function simply we call all above functions\n",
    "'''\n",
    "                            \n",
    "                             \n",
    "    \n",
    "    "
   ]
  },
  {
   "cell_type": "code",
   "execution_count": null,
   "metadata": {},
   "outputs": [],
   "source": []
  },
  {
   "cell_type": "code",
   "execution_count": null,
   "metadata": {},
   "outputs": [],
   "source": []
  }
 ],
 "metadata": {
  "kernelspec": {
   "display_name": "Python 3",
   "language": "python",
   "name": "python3"
  },
  "language_info": {
   "codemirror_mode": {
    "name": "ipython",
    "version": 3
   },
   "file_extension": ".py",
   "mimetype": "text/x-python",
   "name": "python",
   "nbconvert_exporter": "python",
   "pygments_lexer": "ipython3",
   "version": "3.7.0"
  }
 },
 "nbformat": 4,
 "nbformat_minor": 2
}

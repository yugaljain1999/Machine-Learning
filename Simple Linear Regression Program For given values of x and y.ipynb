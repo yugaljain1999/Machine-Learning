{
 "cells": [
  {
   "cell_type": "code",
   "execution_count": 15,
   "metadata": {},
   "outputs": [
    {
     "data": {
      "image/png": "[encoded data removed]",
      "text/plain": [
       "<Figure size 432x288 with 1 Axes>"
      ]
     },
     "metadata": {
      "needs_background": "light"
     },
     "output_type": "display_data"
    },
    {
     "name": "stdout",
     "output_type": "stream",
     "text": [
      "Estimated Error: 2.670782871654845\n"
     ]
    }
   ],
   "source": [
    "import numpy as np\n",
    "import matplotlib.pyplot as plt\n",
    "def coefficients(x,y):\n",
    "    n=np.size(x)# Here n is number of training examples\n",
    "    # Here x and y are training examples\n",
    "    m_x,m_y=np.mean(x),np.mean(y)# Here m_x is mean of x and m_y is mean of y\n",
    "    # Here s_x_y is cross validation whereas s_x_x is same standard deviation\n",
    "    s_x_y=np.mean(x*y)-n*m_x*m_y\n",
    "    s_x_x=np.mean(x*x)-n*m_x*m_x\n",
    "    # Here b1 and b0 are the estimated coeffiecients named as slope and intercept\n",
    "    # Here m_x is mean of x and m_y is mean of y where y is true and y_predict is predictable values\n",
    "    # m_x=(sum of x values)/n , m_y=(sum of y values)/n\n",
    "    b1=s_x_y/s_x_x\n",
    "    b0=m_y-b1*m_x\n",
    "    return b0,b1\n",
    "\n",
    "def ploting(x,y,b):\n",
    "    plt.scatter(x,y,color=\"red\",marker='*')\n",
    "    y_predict=b[0]+x*b[1]\n",
    "    plt.plot(x,y_predict,color=\"black\")\n",
    "    plt.show()\n",
    "\n",
    "def leastmeansquare(y,y_predict):\n",
    "    error=np.mean(((y_predict-y)**2))\n",
    "    print('Estimated Error:',error)\n",
    "\n",
    "def main():\n",
    "    x=np.array([1,2,3,4,5,6,7,8,9])\n",
    "    y=np.array([2,5,7,9,13,15,14,17,16])\n",
    "    b=coefficients(x,y)\n",
    "    ploting(x,y,b)\n",
    "    y_predict=b[0]+x*b[1]\n",
    "    leastmeansquare(y,y_predict)\n",
    "if __name__=='__main__':\n",
    "    main()\n",
    "    \n"
   ]
  },
  {
   "cell_type": "code",
   "execution_count": null,
   "metadata": {},
   "outputs": [],
   "source": [
    "import numpy as np\n",
    "import matplotlib.pyplot as plt\n",
    "def coeffiecients(x,y):\n",
    "    \n"
   ]
  }
 ],
 "metadata": {
  "kernelspec": {
   "display_name": "Python 3",
   "language": "python",
   "name": "python3"
  },
  "language_info": {
   "codemirror_mode": {
    "name": "ipython",
    "version": 3
   },
   "file_extension": ".py",
   "mimetype": "text/x-python",
   "name": "python",
   "nbconvert_exporter": "python",
   "pygments_lexer": "ipython3",
   "version": "3.7.0"
  }
 },
 "nbformat": 4,
 "nbformat_minor": 2
}
